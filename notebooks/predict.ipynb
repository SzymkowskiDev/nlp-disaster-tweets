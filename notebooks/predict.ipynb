{
 "cells": [
  {
   "cell_type": "code",
   "execution_count": 108,
   "metadata": {},
   "outputs": [
    {
     "name": "stdout",
     "output_type": "stream",
     "text": [
      "1\n"
     ]
    }
   ],
   "source": [
    "# AIM: Create a function for classyfing an individual tweet\n",
    "from re import X\n",
    "import pandas as pd\n",
    "from sklearn.feature_extraction.text import TfidfVectorizer\n",
    "from generate_perf_report import generate_perf_report\n",
    "import pandas as pd\n",
    "from sklearn.model_selection import train_test_split\n",
    "from sklearn import metrics\n",
    "from sklearn import svm\n",
    "import scipy.sparse\n",
    "\n",
    "# Load train data\n",
    "train = pd.read_csv(\"train.csv\")\n",
    "#* I only need columns 'text' and 'target'\n",
    "train = train[[\"text\", \"target\"]]\n",
    "\n",
    "# Example tweets to predict\n",
    "tweet_yes = pd.DataFrame({\"text\": [\"Just got sent this photo from Ruby #Alaska as smoke from #wildfires pours into a school \"], \"target\": [1]}) # this should be 1\n",
    "# tweet_no = pd.DataFrame({\"text\": [\"http://t.co/GKYe6gjTk5 Had a #personalinjury accident this summer? Read our advice &amp; see how a #solicitor can help #OtleyHour\"], \"target\": [0]} )  # this should be 0\n",
    "\n",
    "# Define SVC model\n",
    "clf = svm.SVC()\n",
    "\n",
    "#* Need to join train data with user input\n",
    "#* print(train.shape)\n",
    "#* (7613, 2)\n",
    "#r train = train.append(tweet_yes)\n",
    "\n",
    "#* print(train.shape)\n",
    "#* (7614, 2) appending worked\n",
    "#* print(train.tail())\n",
    "#* 0     Just got sent this photo from Ruby #Alaska as ...       1\n",
    "#* new row can be found at the end\n",
    "#* You will then access it like this: list[-1]\n",
    "\n",
    "# Vectorize data (on all 7614 rows)\n",
    "X = tfidf_vect.fit_transform(train['text'])\n",
    "tmp = tfidf_vect.transform(tweet_yes['text'])\n",
    "# print(tmp)\n",
    "\n",
    "#* What is X?\n",
    "#* print(type(X))\n",
    "#* <class 'scipy.sparse.csr.csr_matrix'>\n",
    "#* This is a scipy.sparse.csr_matrix (CSR(Compressed Sparse Row))\n",
    "# print(X.get_shape())\n",
    "#* (7614, 5000)\n",
    "#* How do I access elements of a scipy sparse matrix?\n",
    "\n",
    "#* Get subset of first 7613 for model training\n",
    "#* print(X[1:10]) That doesn't return first 10, but something else instead\n",
    "# print(X[1,2])\n",
    "\n",
    "# *Get the last row for prediction\n",
    "\n",
    "\n",
    "# Extract response variable from train data\n",
    "y = train[\"target\"].copy()\n",
    "\n",
    "# Data split, perhaps we can do without, bcs it shuffles the data\n",
    "# X_train, X_test, y_train, y_test = train_test_split(X, y, test_size=0.15)\n",
    "\n",
    "# Fit the model\n",
    "model = clf.fit(X, y)\n",
    "\n",
    "# Make predictions\n",
    "predictions = model.predict(tmp)\n",
    "\n",
    "# print(type(predictions))\n",
    "print(predictions[0])\n",
    "\n"
   ]
  }
 ],
 "metadata": {
  "kernelspec": {
   "display_name": "Python 3.9.12 ('base')",
   "language": "python",
   "name": "python3"
  },
  "language_info": {
   "name": "python",
   "version": "3.9.12"
  },
  "orig_nbformat": 4,
  "vscode": {
   "interpreter": {
    "hash": "7d68830897a5780e7aa2c61352aa0db10cb9911aead0795b4368918597d1e119"
   }
  }
 },
 "nbformat": 4,
 "nbformat_minor": 2
}

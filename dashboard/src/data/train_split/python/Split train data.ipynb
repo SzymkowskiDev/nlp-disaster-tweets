{
 "cells": [
  {
   "cell_type": "code",
   "execution_count": 10,
   "id": "2796a558",
   "metadata": {},
   "outputs": [],
   "source": [
    "import pandas as pd\n",
    "\n",
    "train_old = pd.read_csv(\"train.csv\")\n",
    "\n",
    "# train_old.shape[0]\n",
    "# Gives number of rows: 7613\n",
    "\n",
    "# 70% z 7613 to: 7613*0.7 = 5329.1 zatem 5329\n",
    "# 30% z 7613 to: 7613*0.3 = 2283.9 zatem 2284\n",
    "# Check: 5329 + 2284 = 7613\n",
    "\n",
    "train_new = train_old.loc[0:5329]\n",
    "test_new = train_old.loc[5330:7613]\n",
    "\n",
    "# Saving files\n",
    "train_new.to_csv(\"train_new.csv\")\n",
    "test_new.to_csv(\"test_new.csv\")"
   ]
  }
 ],
 "metadata": {
  "kernelspec": {
   "display_name": "Python 3 (ipykernel)",
   "language": "python",
   "name": "python3"
  },
  "language_info": {
   "codemirror_mode": {
    "name": "ipython",
    "version": 3
   },
   "file_extension": ".py",
   "mimetype": "text/x-python",
   "name": "python",
   "nbconvert_exporter": "python",
   "pygments_lexer": "ipython3",
   "version": "3.9.12"
  }
 },
 "nbformat": 4,
 "nbformat_minor": 5
}

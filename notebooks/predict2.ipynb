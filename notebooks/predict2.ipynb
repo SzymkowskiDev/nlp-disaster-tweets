{
 "cells": [
  {
   "cell_type": "code",
   "execution_count": 36,
   "metadata": {},
   "outputs": [
    {
     "name": "stdout",
     "output_type": "stream",
     "text": [
      "<class 'scipy.sparse.csr.csr_matrix'>\n"
     ]
    }
   ],
   "source": [
    "import pandas as pd\n",
    "from sklearn.model_selection import train_test_split\n",
    "from sklearn import metrics\n",
    "from sklearn import svm\n",
    "from re import X\n",
    "import pandas as pd\n",
    "from sklearn.feature_extraction.text import TfidfVectorizer\n",
    "import scipy.sparse\n",
    "\n",
    "\n",
    "tweet = \"Just got sent this photo from Ruby #Alaska as smoke from #wildfires pours into a school\"\n",
    "\n",
    "# Load train data\n",
    "train = pd.read_csv(\"train.csv\")\n",
    "# * I only need columns 'text' and 'target'\n",
    "train = train[[\"text\", \"target\"]]\n",
    "\n",
    "# Example tweets to predict\n",
    "tweet_df = pd.DataFrame({\"text\": [tweet]})\n",
    "\n",
    "# Define SVC model\n",
    "clf = svm.SVC()\n",
    "\n",
    "# Vectorize data\n",
    "tfidf_vect = TfidfVectorizer(max_features=5000)\n",
    "X = tfidf_vect.fit_transform(train['text'])\n",
    "tmp = tfidf_vect.transform(tweet_df['text'])\n",
    "\n",
    "# Extract response variable from train data\n",
    "y = train[\"target\"].copy()\n",
    "\n",
    "# Fit the model\n",
    "# model = clf.fit(X, y)\n",
    "\n",
    "print(type(model))\n",
    "\n",
    "# Make predictions\n",
    "predictions = model.predict(tmp)\n",
    "\n",
    "outcome = predictions[0]\n",
    "\n",
    "# Model persistence\n",
    "import pickle\n",
    "# s = pickle.dumps(clf)\n",
    "# clf2 = pickle.loads(s)\n",
    "# clf2.predict(tmp)\n",
    "# print(type(clf2))\n",
    "\n",
    "# 1. Save file on the disk\n",
    "# with open(\"model_svc_as_bin\", 'wb') as f:\n",
    "#     f.write(s)\n",
    "\n",
    "# 2.Load file and its content\n",
    "with open(\"model_svc_as_bin\", mode='rb') as file: # b is important -> binary\n",
    "    fileContent = file.read()\n",
    "\n",
    "#print(type(fileContent))\n",
    "\n",
    "# 3. Transform binary back into Python object\n",
    "fileContent = pickle.loads(fileContent)\n",
    "\n",
    "print(fileContent.predict(tmp))\n"
   ]
  }
 ],
 "metadata": {
  "kernelspec": {
   "display_name": "Python 3.9.12 ('base')",
   "language": "python",
   "name": "python3"
  },
  "language_info": {
   "codemirror_mode": {
    "name": "ipython",
    "version": 3
   },
   "file_extension": ".py",
   "mimetype": "text/x-python",
   "name": "python",
   "nbconvert_exporter": "python",
   "pygments_lexer": "ipython3",
   "version": "3.9.12"
  },
  "orig_nbformat": 4,
  "vscode": {
   "interpreter": {
    "hash": "7d68830897a5780e7aa2c61352aa0db10cb9911aead0795b4368918597d1e119"
   }
  }
 },
 "nbformat": 4,
 "nbformat_minor": 2
}
